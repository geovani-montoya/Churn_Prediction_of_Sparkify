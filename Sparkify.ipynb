{
 "cells": [
  {
   "cell_type": "markdown",
   "metadata": {},
   "source": [
    "# Sparkify Project Workspace\n",
    "This workspace contains a tiny subset (128MB) of the full dataset available (12GB). Feel free to use this workspace to build your project, or to explore a smaller subset with Spark before deploying your cluster on the cloud. Instructions for setting up your Spark cluster is included in the last lesson of the Extracurricular Spark Course content.\n",
    "\n",
    "You can follow the steps below to guide your data analysis and model building portion of this project."
   ]
  },
  {
   "cell_type": "code",
   "execution_count": 1,
   "metadata": {},
   "outputs": [],
   "source": [
    "# import libraries\n",
    "import pandas as pd\n",
    "import matplotlib.pyplot as plt\n",
    "import seaborn as sns\n",
    "import re\n",
    "import datetime\n",
    "\n",
    "from pyspark.sql import SparkSession\n",
    "from pyspark.sql.functions import avg, col, concat, desc, isnan, explode, lit, count, when, sort_array, asc, avg, min, max, split, udf, isnull, countDistinct\n",
    "from pyspark.sql.types import IntegerType\n",
    "\n",
    "from pyspark.ml import Pipeline\n",
    "\n",
    "from pyspark.ml.classification import LogisticRegression, RandomForestClassifier, GBTClassifier, DecisionTreeClassifier, NaiveBayes\n",
    "from pyspark.ml.evaluation import MulticlassClassificationEvaluator\n",
    "from pyspark.ml.feature import CountVectorizer, IDF, Normalizer, PCA, RegexTokenizer, StandardScaler, StopWordsRemover, StringIndexer, VectorAssembler\n",
    "from pyspark.ml.regression import LinearRegression\n",
    "from pyspark.ml.feature import OneHotEncoder, StringIndexer\n",
    "from pyspark.ml.tuning import CrossValidator, ParamGridBuilder\n",
    "from pyspark.ml.classification import LogisticRegression\n",
    "from pyspark.sql import Row\n",
    "from pyspark.sql.functions import sum as Fsum\n",
    "from pyspark.sql.window import Window\n",
    "%matplotlib inline"
   ]
  },
  {
   "cell_type": "code",
   "execution_count": 2,
   "metadata": {},
   "outputs": [],
   "source": [
    "# create a Spark session\n",
    "spark = SparkSession \\\n",
    "    .builder \\\n",
    "    .appName(\"Sparkify\") \\\n",
    "    .getOrCreate()"
   ]
  },
  {
   "cell_type": "markdown",
   "metadata": {},
   "source": [
    "# Load and Clean Dataset\n",
    "In this workspace, the mini-dataset file is `mini_sparkify_event_data.json`. Load and clean the dataset, checking for invalid or missing data - for example, records without userids or sessionids. "
   ]
  },
  {
   "cell_type": "code",
   "execution_count": 3,
   "metadata": {},
   "outputs": [],
   "source": [
    "df = spark.read.json('mini_sparkify_event_data.json')"
   ]
  },
  {
   "cell_type": "code",
   "execution_count": 4,
   "metadata": {},
   "outputs": [
    {
     "name": "stdout",
     "output_type": "stream",
     "text": [
      "root\n",
      " |-- artist: string (nullable = true)\n",
      " |-- auth: string (nullable = true)\n",
      " |-- firstName: string (nullable = true)\n",
      " |-- gender: string (nullable = true)\n",
      " |-- itemInSession: long (nullable = true)\n",
      " |-- lastName: string (nullable = true)\n",
      " |-- length: double (nullable = true)\n",
      " |-- level: string (nullable = true)\n",
      " |-- location: string (nullable = true)\n",
      " |-- method: string (nullable = true)\n",
      " |-- page: string (nullable = true)\n",
      " |-- registration: long (nullable = true)\n",
      " |-- sessionId: long (nullable = true)\n",
      " |-- song: string (nullable = true)\n",
      " |-- status: long (nullable = true)\n",
      " |-- ts: long (nullable = true)\n",
      " |-- userAgent: string (nullable = true)\n",
      " |-- userId: string (nullable = true)\n",
      "\n"
     ]
    }
   ],
   "source": [
    "df.printSchema()"
   ]
  },
  {
   "cell_type": "code",
   "execution_count": 5,
   "metadata": {},
   "outputs": [
    {
     "name": "stdout",
     "output_type": "stream",
     "text": [
      "There are 286500 valid users\n"
     ]
    }
   ],
   "source": [
    "# Users with NaNs in userIds or sessionIds are invalid users\n",
    "# Drop invalid users\n",
    "users = df.dropna(how = 'any', subset = [\"userId\", \"sessionId\"])\n",
    "print('There are', users.count(), 'valid users')"
   ]
  },
  {
   "cell_type": "code",
   "execution_count": 6,
   "metadata": {},
   "outputs": [
    {
     "name": "stdout",
     "output_type": "stream",
     "text": [
      "+------+\n",
      "|userId|\n",
      "+------+\n",
      "|100010|\n",
      "|200002|\n",
      "|   125|\n",
      "|    51|\n",
      "|   124|\n",
      "|     7|\n",
      "|    54|\n",
      "|    15|\n",
      "|   155|\n",
      "|   132|\n",
      "|   154|\n",
      "|100014|\n",
      "|   101|\n",
      "|    11|\n",
      "|   138|\n",
      "|300017|\n",
      "|    29|\n",
      "|    69|\n",
      "|100021|\n",
      "|    42|\n",
      "+------+\n",
      "only showing top 20 rows\n",
      "\n"
     ]
    },
    {
     "data": {
      "text/plain": [
       "286500"
      ]
     },
     "execution_count": 6,
     "metadata": {},
     "output_type": "execute_result"
    }
   ],
   "source": [
    "# Check for duplicate users \n",
    "# Results show there are none bc valid_users counts are the same\n",
    "users.select(\"userId\").dropDuplicates().show()\n",
    "users.count()"
   ]
  },
  {
   "cell_type": "code",
   "execution_count": 7,
   "metadata": {},
   "outputs": [
    {
     "name": "stdout",
     "output_type": "stream",
     "text": [
      "After cleaning the data, there are 278154 valid user entries.\n"
     ]
    }
   ],
   "source": [
    "# Filter out empty userIds\n",
    "valid_users = users.filter(users['userId'] != \"\")\n",
    "print('After cleaning the data, there are', valid_users.count(), 'valid user entries.')"
   ]
  },
  {
   "cell_type": "markdown",
   "metadata": {},
   "source": [
    "# Exploratory Data Analysis\n",
    "When you're working with the full dataset, perform EDA by loading a small subset of the data and doing basic manipulations within Spark. In this workspace, you are already provided a small subset of data you can explore.\n",
    "\n",
    "### Define Churn\n",
    "\n",
    "Once you've done some preliminary analysis, create a column `Churn` to use as the label for your model. I suggest using the `Cancellation Confirmation` events to define your churn, which happen for both paid and free users. As a bonus task, you can also look into the `Downgrade` events.\n",
    "\n",
    "### Explore Data\n",
    "Once you've defined churn, perform some exploratory data analysis to observe the behavior for users who stayed vs users who churned. You can start by exploring aggregates on these two groups of users, observing how much of a specific action they experienced per a certain time unit or number of songs played."
   ]
  },
  {
   "cell_type": "code",
   "execution_count": 8,
   "metadata": {},
   "outputs": [
    {
     "name": "stdout",
     "output_type": "stream",
     "text": [
      "+--------------------+\n",
      "|                page|\n",
      "+--------------------+\n",
      "|              Cancel|\n",
      "|    Submit Downgrade|\n",
      "|         Thumbs Down|\n",
      "|                Home|\n",
      "|           Downgrade|\n",
      "|         Roll Advert|\n",
      "|              Logout|\n",
      "|       Save Settings|\n",
      "|Cancellation Conf...|\n",
      "|               About|\n",
      "|            Settings|\n",
      "|     Add to Playlist|\n",
      "|          Add Friend|\n",
      "|            NextSong|\n",
      "|           Thumbs Up|\n",
      "|                Help|\n",
      "|             Upgrade|\n",
      "|               Error|\n",
      "|      Submit Upgrade|\n",
      "+--------------------+\n",
      "\n"
     ]
    }
   ],
   "source": [
    "# Explore values in page feature\n",
    "valid_users.select(\"page\").dropDuplicates().show()"
   ]
  },
  {
   "cell_type": "code",
   "execution_count": 9,
   "metadata": {},
   "outputs": [
    {
     "name": "stdout",
     "output_type": "stream",
     "text": [
      "There are 52 out of 225 users that cancelled\n"
     ]
    }
   ],
   "source": [
    "# Show how many cancelled which gives direct count of churn population\n",
    "# Get Churn Ids\n",
    "churn_users = valid_users.filter(valid_users[\"page\"] == \"Cancellation Confirmation\")\\\n",
    "    .select(\"userId\").dropDuplicates()\n",
    "\n",
    "print(\"There are\", churn_users.count(), \"out of\", valid_users.select(\"userId\").dropDuplicates().count(), \"users that cancelled\")"
   ]
  },
  {
   "cell_type": "markdown",
   "metadata": {},
   "source": [
    "#### Note:\n",
    "People that cancelled represent less than 25% of the population. Data imbalance is something to keep in mind when choosing the ML model and metrics."
   ]
  },
  {
   "cell_type": "markdown",
   "metadata": {},
   "source": [
    "### Question 1.  Is there a churn rate difference between gender?"
   ]
  },
  {
   "cell_type": "code",
   "execution_count": 10,
   "metadata": {},
   "outputs": [
    {
     "name": "stdout",
     "output_type": "stream",
     "text": [
      "+------+-----+-----+\n",
      "|gender|churn|count|\n",
      "+------+-----+-----+\n",
      "|     F| true|   20|\n",
      "|     F|false|   84|\n",
      "|     M| true|   32|\n",
      "|     M|false|   89|\n",
      "+------+-----+-----+\n",
      "\n",
      "Churn rate of female users: 0.19\n",
      "Churn rate of male users: 0.26\n"
     ]
    }
   ],
   "source": [
    "# Get list of churn population\n",
    "churn_users_ls = [user[\"userId\"] for user in churn_users.collect()]\n",
    "\n",
    "# Create churn column\n",
    "valid_users = valid_users.withColumn(\"churn\", valid_users.userId.isin(churn_users_ls))\n",
    "\n",
    "# Show table of churn counts based on gender\n",
    "gender_compare = valid_users.dropDuplicates(['userId'])\\\n",
    "    .groupby(['gender','churn']).count().sort(\"gender\")\n",
    "\n",
    "gender_compare.show()\n",
    "\n",
    "# Get churn rates based on Gender\n",
    "total_F_users = valid_users.select(\"userId\", \"churn\")\\\n",
    "    .where(valid_users.gender == \"F\").dropDuplicates().count()\n",
    "\n",
    "churn_F = valid_users.select(\"userId\")\\\n",
    "    .where((valid_users.churn == 1) & (valid_users.gender =='F'))\\\n",
    "    .dropDuplicates().count()\n",
    "\n",
    "total_M_users = valid_users.select(\"userId\", \"churn\").where(valid_users.gender == \"M\")\\\n",
    "    .dropDuplicates().count()\n",
    "\n",
    "churn_M = valid_users.select(\"userId\")\\\n",
    "                            .where((valid_users.churn == 1) & (valid_users.gender =='M')).dropDuplicates().count()\n",
    "\n",
    "churn_rate_F = churn_F / total_F_users\n",
    "churn_rate_M = churn_M / total_M_users\n",
    "\n",
    "print(\"Churn rate of female users: %.2f\"%churn_rate_F)\n",
    "print(\"Churn rate of male users: %.2f\"%churn_rate_M)"
   ]
  },
  {
   "cell_type": "code",
   "execution_count": 11,
   "metadata": {},
   "outputs": [
    {
     "data": {
      "image/png": "[encoded data removed]",
      "text/plain": [
       "<matplotlib.figure.Figure at 0x7f7803d1cc88>"
      ]
     },
     "metadata": {
      "needs_background": "light"
     },
     "output_type": "display_data"
    }
   ],
   "source": [
    "# Visualization\n",
    "gender_df = gender_compare.toPandas()\n",
    "\n",
    "\n",
    "fig = plt.figure(figsize=(7, 4));\n",
    "sns.barplot(x='churn', y='count', hue='gender', \n",
    "            hue_order=['M', 'F'], data=gender_df );\n",
    "plt.xticks(fontsize=14)\n",
    "plt.yticks(fontsize=14)\n",
    "plt.xlabel(\"Churn\", fontsize=14)\n",
    "plt.ylabel(\"Counts\", fontsize=14)\n",
    "plt.title(\"Gender: Churned Users vs Unchurned Users\", fontsize=14 )\n",
    "plt.xticks(rotation=30, ha='right', fontsize=14)\n",
    "plt.legend(loc='best', fontsize=14);"
   ]
  },
  {
   "cell_type": "markdown",
   "metadata": {},
   "source": [
    "#### Question 1. Results and discussion\n",
    "It is shown that there is a difference in churn rates between genders where males have a higher churn rate."
   ]
  },
  {
   "cell_type": "markdown",
   "metadata": {},
   "source": [
    "### Question 2. What are the most active pages by the users? What can be said based on the distribution and relative differences between active and churned users."
   ]
  },
  {
   "cell_type": "code",
   "execution_count": 12,
   "metadata": {},
   "outputs": [
    {
     "data": {
      "text/html": [
       "<div>\n",
       "<style scoped>\n",
       "    .dataframe tbody tr th:only-of-type {\n",
       "        vertical-align: middle;\n",
       "    }\n",
       "\n",
       "    .dataframe tbody tr th {\n",
       "        vertical-align: top;\n",
       "    }\n",
       "\n",
       "    .dataframe thead th {\n",
       "        text-align: right;\n",
       "    }\n",
       "</style>\n",
       "<table border=\"1\" class=\"dataframe\">\n",
       "  <thead>\n",
       "    <tr style=\"text-align: right;\">\n",
       "      <th></th>\n",
       "      <th>page</th>\n",
       "      <th>Churned</th>\n",
       "      <th>Active</th>\n",
       "    </tr>\n",
       "  </thead>\n",
       "  <tbody>\n",
       "    <tr>\n",
       "      <th>0</th>\n",
       "      <td>Cancel</td>\n",
       "      <td>0.001159</td>\n",
       "      <td>0.000000</td>\n",
       "    </tr>\n",
       "    <tr>\n",
       "      <th>1</th>\n",
       "      <td>Submit Downgrade</td>\n",
       "      <td>0.000201</td>\n",
       "      <td>0.000231</td>\n",
       "    </tr>\n",
       "    <tr>\n",
       "      <th>2</th>\n",
       "      <td>Thumbs Down</td>\n",
       "      <td>0.011056</td>\n",
       "      <td>0.008787</td>\n",
       "    </tr>\n",
       "    <tr>\n",
       "      <th>3</th>\n",
       "      <td>Home</td>\n",
       "      <td>0.037268</td>\n",
       "      <td>0.036050</td>\n",
       "    </tr>\n",
       "    <tr>\n",
       "      <th>4</th>\n",
       "      <td>Downgrade</td>\n",
       "      <td>0.007512</td>\n",
       "      <td>0.007364</td>\n",
       "    </tr>\n",
       "  </tbody>\n",
       "</table>\n",
       "</div>"
      ],
      "text/plain": [
       "               page   Churned    Active\n",
       "0            Cancel  0.001159  0.000000\n",
       "1  Submit Downgrade  0.000201  0.000231\n",
       "2       Thumbs Down  0.011056  0.008787\n",
       "3              Home  0.037268  0.036050\n",
       "4         Downgrade  0.007512  0.007364"
      ]
     },
     "execution_count": 12,
     "metadata": {},
     "output_type": "execute_result"
    }
   ],
   "source": [
    "churned= valid_users.filter(valid_users.churn==1)\n",
    "active = valid_users.filter(valid_users.churn==0)\n",
    "\n",
    "n_churned = churned.count()\n",
    "n_active  = active.count()\n",
    "\n",
    "\n",
    "churned_df= churned.filter(churned.page!=\"NextSong\").groupby([\"page\"]).count()\n",
    "churned_df= churned_df.withColumn(\"Churned\", churned_df[\"count\"]/(n_churned)).sort(\"page\")\n",
    "\n",
    "active_df = active.filter(active.page!=\"NextSong\").groupby([\"page\"]).count()\n",
    "active_df = active_df.withColumn(\"Active\", active_df[\"count\"]/(n_active)).sort(\"page\")\n",
    "\n",
    "churned_active_df = churned_df.join(active_df, \"page\", \"outer\").drop(\"count\")\\\n",
    "    .fillna(0).toPandas()\n",
    "\n",
    "churned_active_df.head()"
   ]
  },
  {
   "cell_type": "code",
   "execution_count": 13,
   "metadata": {},
   "outputs": [
    {
     "data": {
      "image/png": "[encoded data removed]",
      "text/plain": [
       "<matplotlib.figure.Figure at 0x7f7801233978>"
      ]
     },
     "metadata": {
      "needs_background": "light"
     },
     "output_type": "display_data"
    }
   ],
   "source": [
    "# Visualization\n",
    "churned_active_df.plot.bar(\"page\");\n",
    "plt.xticks(fontsize=10)\n",
    "plt.yticks(fontsize=10)\n",
    "plt.xlabel(\"Page or Activity\", fontsize=10)\n",
    "plt.ylabel(\"Fraction\", fontsize=10)\n",
    "plt.title(\"Distribution of page visits by churned users vs active users\", fontsize=13)\n",
    "plt.xticks(rotation=45, ha='right', fontsize=10)\n",
    "plt.legend(loc='best', fontsize=9);"
   ]
  },
  {
   "cell_type": "markdown",
   "metadata": {},
   "source": [
    "#### Question 2. Results and discussion\n",
    "As show by the figure above, there are differences in pages (and activities) between churned and active users. The higher fraction of the thumbs down page from the churned users suggest they did not like the content (music). The slightly higher downgrade fraction from the churned users suggest that there are signs, before a user churns; the churned population also has the higher upgrade fraction compared to the active users. The highest difference comes from roll advertisements which is understandable why it would lead users to cancel and log out. A higher fraction of the churned users using settings more often suggests that they are having trouble customizing their experience, leading them to churn. Active users tend to be more interactive as they add friends more often and click thumbs up on the content.  \n",
    "\n",
    "As it turns out, one can really tell alot from this plot alone. "
   ]
  },
  {
   "cell_type": "markdown",
   "metadata": {},
   "source": [
    "# Feature Engineering\n",
    "Once you've familiarized yourself with the data, build out the features you find promising to train your model on. To work with the full dataset, you can follow the following steps.\n",
    "- Write a script to extract the necessary features from the smaller subset of data\n",
    "- Ensure that your script is scalable, using the best practices discussed in Lesson 3\n",
    "- Try your script on the full data set, debugging your script if necessary\n",
    "\n",
    "If you are working in the classroom workspace, you can just extract features based on the small subset of data contained here. Be sure to transfer over this work to the larger dataset when you work on your Spark cluster."
   ]
  },
  {
   "cell_type": "code",
   "execution_count": 21,
   "metadata": {},
   "outputs": [
    {
     "name": "stdout",
     "output_type": "stream",
     "text": [
      "+------+------+\n",
      "|userId|gender|\n",
      "+------+------+\n",
      "|    10|     0|\n",
      "|   100|     0|\n",
      "|100001|     1|\n",
      "|100002|     1|\n",
      "|100003|     1|\n",
      "+------+------+\n",
      "only showing top 5 rows\n",
      "\n"
     ]
    }
   ],
   "source": [
    "# Make gender to binary\n",
    "\n",
    "Gender = valid_users.dropDuplicates(['userId']).sort('userId')\\\n",
    "    .select(['userId','gender']).replace(['F','M'], ['1', '0'], 'gender')\n",
    "Gender.withColumn('Gender', Gender.gender.cast(\"int\"))\n",
    "Gender.show(5)"
   ]
  },
  {
   "cell_type": "code",
   "execution_count": 23,
   "metadata": {},
   "outputs": [
    {
     "name": "stdout",
     "output_type": "stream",
     "text": [
      "+------+-----------+\n",
      "|userId|SongsPlayed|\n",
      "+------+-----------+\n",
      "|    10|        673|\n",
      "|   100|       2682|\n",
      "|100001|        133|\n",
      "|100002|        195|\n",
      "|100003|         51|\n",
      "+------+-----------+\n",
      "only showing top 5 rows\n",
      "\n"
     ]
    }
   ],
   "source": [
    "# make number of songs played\n",
    "\n",
    "Songs = valid_users.where(valid_users.song!='null').groupby('userId')\\\n",
    "    .agg(count(valid_users.song).alias('SongsPlayed')).orderBy('userId')\\\n",
    "    .select(['userId','SongsPlayed'])\n",
    "Songs.show(5)"
   ]
  },
  {
   "cell_type": "code",
   "execution_count": 31,
   "metadata": {},
   "outputs": [
    {
     "name": "stdout",
     "output_type": "stream",
     "text": [
      "+------+-----------+\n",
      "|userId|Roll Advert|\n",
      "+------+-----------+\n",
      "|    10|          1|\n",
      "|   100|         25|\n",
      "|100001|         14|\n",
      "|100002|          3|\n",
      "|100003|          9|\n",
      "+------+-----------+\n",
      "only showing top 5 rows\n",
      "\n"
     ]
    }
   ],
   "source": [
    "# number of roll advertisement\n",
    "\n",
    "Ads = valid_users.where(valid_users.page=='Roll Advert') \\\n",
    "    .groupby(['userId']).agg(count(col('page')).alias('Roll Advert'))\\\n",
    "    .orderBy('userId').select(['userId','Roll Advert'])\n",
    "\n",
    "Ads.show(5)"
   ]
  },
  {
   "cell_type": "code",
   "execution_count": 26,
   "metadata": {},
   "outputs": [
    {
     "name": "stdout",
     "output_type": "stream",
     "text": [
      "+------+--------+\n",
      "|userId|Settings|\n",
      "+------+--------+\n",
      "|    10|       7|\n",
      "|   100|      11|\n",
      "|100001|       1|\n",
      "|100004|      11|\n",
      "|100005|       2|\n",
      "+------+--------+\n",
      "only showing top 5 rows\n",
      "\n"
     ]
    }
   ],
   "source": [
    "# number of settings in pages\n",
    "Settings = valid_users.where(valid_users.page=='Settings')\\\n",
    "    .groupby(['userId']).agg(count(col('page')).alias('Settings'))\\\n",
    "    .orderBy('userId').select(['userId','Settings'])\n",
    "\n",
    "Settings.show(5)"
   ]
  },
  {
   "cell_type": "code",
   "execution_count": 28,
   "metadata": {},
   "outputs": [
    {
     "name": "stdout",
     "output_type": "stream",
     "text": [
      "+------+----------+\n",
      "|userId|Add Friend|\n",
      "+------+----------+\n",
      "|    10|        12|\n",
      "|   100|        49|\n",
      "|100001|         2|\n",
      "|100002|         1|\n",
      "|100004|        19|\n",
      "+------+----------+\n",
      "only showing top 5 rows\n",
      "\n"
     ]
    }
   ],
   "source": [
    "# number of settings in pages\n",
    "Addfriend = valid_users.where(valid_users.page=='Add Friend')\\\n",
    "    .groupby(['userId']).agg(count(col('page')).alias('Add Friend'))\\\n",
    "    .orderBy('userId').select(['userId','Add Friend'])\n",
    "\n",
    "Addfriend.show(5)"
   ]
  },
  {
   "cell_type": "code",
   "execution_count": 30,
   "metadata": {},
   "outputs": [
    {
     "name": "stdout",
     "output_type": "stream",
     "text": [
      "+------+-----------+\n",
      "|userId|ThumbsDowns|\n",
      "+------+-----------+\n",
      "|    10|          4|\n",
      "|   100|         27|\n",
      "|100001|          2|\n",
      "|100004|         11|\n",
      "|100005|          3|\n",
      "+------+-----------+\n",
      "only showing top 5 rows\n",
      "\n"
     ]
    }
   ],
   "source": [
    "# number of thumbs up and thumbs down\n",
    "Thumbsup = valid_users.where(valid_users.page=='Thumbs Up')\\\n",
    "    .groupby(['userId']).agg(count(col('page')).alias('ThumbsUps'))\\\n",
    "    .orderBy('userId').select(['userId','ThumbsUps'])\n",
    "\n",
    "Thumbsdown = valid_users.where(valid_users.page=='Thumbs Down')\\\n",
    "    .groupby(['userId']).agg(count(col('page')).alias('ThumbsDowns'))\\\n",
    "    .orderBy('userId').select(['userId','ThumbsDowns'])\n",
    "\n",
    "Thumbsdown.show(5)"
   ]
  },
  {
   "cell_type": "code",
   "execution_count": 33,
   "metadata": {},
   "outputs": [
    {
     "name": "stdout",
     "output_type": "stream",
     "text": [
      "+------+-----+------+-----------+-----------+--------+----------+---------+-----------+\n",
      "|userId|churn|gender|SongsPlayed|Roll Advert|Settings|Add Friend|ThumbsUps|ThumbsDowns|\n",
      "+------+-----+------+-----------+-----------+--------+----------+---------+-----------+\n",
      "|200002|false|     0|        387|          7|       3|         4|       21|          6|\n",
      "|   124|false|     1|       4079|          4|      20|        74|      171|         41|\n",
      "|     7|false|     0|        150|         16|       3|         1|        7|          1|\n",
      "|    15|false|     0|       1914|          1|      16|        31|       81|         14|\n",
      "|    54| true|     1|       2841|         47|      17|        33|      163|         29|\n",
      "|   155|false|     1|        820|          8|       5|        11|       58|          3|\n",
      "|100014| true|     0|        257|          2|       1|         6|       17|          3|\n",
      "|   132|false|     1|       1928|          2|      17|        41|       96|         17|\n",
      "|   101| true|     0|       1797|          8|       9|        29|       86|         16|\n",
      "|    11|false|     1|        647|         39|       6|         6|       40|          9|\n",
      "|   138|false|     0|       2070|         17|      17|        41|       95|         24|\n",
      "|300017|false|     1|       3632|         11|      23|        63|      303|         28|\n",
      "|    29| true|     0|       3028|         22|      19|        47|      154|         22|\n",
      "|    69|false|     1|       1125|          3|       3|        12|       72|          9|\n",
      "|   112|false|     0|        215|         21|       4|         7|        9|          3|\n",
      "|    42|false|     1|       3573|         10|      28|        52|      166|         25|\n",
      "|    73| true|     1|        377|          1|       2|        11|       14|          7|\n",
      "|    87| true|     0|        767|         50|       8|        27|       32|          5|\n",
      "|200010|false|     1|        237|         17|       1|         8|       14|          7|\n",
      "|   113|false|     1|       1585|          1|       8|        32|       82|         12|\n",
      "+------+-----+------+-----------+-----------+--------+----------+---------+-----------+\n",
      "only showing top 20 rows\n",
      "\n"
     ]
    }
   ],
   "source": [
    "# Join all the features generated and chosen\n",
    "feature_list = [Gender, Songs, Ads, Settings, Addfriend, Thumbsup, Thumbsdown]\n",
    "\n",
    "df = valid_users.dropDuplicates(['userId']).sort('userId').select(['userId','churn'])\n",
    "for feature in feature_list:\n",
    "    df = df.join(feature,'userId')\n",
    "    \n",
    "df.show()"
   ]
  },
  {
   "cell_type": "code",
   "execution_count": 35,
   "metadata": {},
   "outputs": [],
   "source": [
    "# Convert all columns into floats\n",
    "for feature in df.columns[1:]:\n",
    "    df = df.withColumn(feature, df[feature].cast('float'))"
   ]
  },
  {
   "cell_type": "code",
   "execution_count": 36,
   "metadata": {},
   "outputs": [
    {
     "name": "stdout",
     "output_type": "stream",
     "text": [
      "root\n",
      " |-- userId: string (nullable = true)\n",
      " |-- churn: float (nullable = true)\n",
      " |-- gender: float (nullable = true)\n",
      " |-- SongsPlayed: float (nullable = false)\n",
      " |-- Roll Advert: float (nullable = false)\n",
      " |-- Settings: float (nullable = false)\n",
      " |-- Add Friend: float (nullable = false)\n",
      " |-- ThumbsUps: float (nullable = false)\n",
      " |-- ThumbsDowns: float (nullable = false)\n",
      "\n"
     ]
    }
   ],
   "source": [
    "# This is the data we will use to train\n",
    "df.printSchema()"
   ]
  },
  {
   "cell_type": "markdown",
   "metadata": {},
   "source": [
    "# Modeling\n",
    "Split the full dataset into train, test, and validation sets. Test out several of the machine learning methods you learned. Evaluate the accuracy of the various models, tuning parameters as necessary. Determine your winning model based on test accuracy and report results on the validation set. Since the churned users are a fairly small subset, I suggest using F1 score as the metric to optimize."
   ]
  },
  {
   "cell_type": "markdown",
   "metadata": {},
   "source": [
    "## Train, test split"
   ]
  },
  {
   "cell_type": "code",
   "execution_count": 40,
   "metadata": {},
   "outputs": [
    {
     "name": "stdout",
     "output_type": "stream",
     "text": [
      "Training set churn count: 35\n",
      "Validation set churn count: 2\n"
     ]
    }
   ],
   "source": [
    "train, val = df.randomSplit([0.85, 0.15], seed=7)\n",
    "print(\"Training set churn count: \" + str(train.filter(train.churn==1).count()))\n",
    "print(\"Validation set churn count: \" + str(val.filter(val.churn==1).count()))"
   ]
  },
  {
   "cell_type": "markdown",
   "metadata": {},
   "source": [
    "### Note:\n",
    "Towards the beginning, it was established that this set is imbalanced and that would create a problem (expecting high \"artificial\" accuracy in the predictions); using more training data for validation set is not an option. One way to metigate the imbalanced data set problem is by using the .sampleBy() function in PySpark. This function returns a stratified sample without replacement; it is perfect for this occasion."
   ]
  },
  {
   "cell_type": "code",
   "execution_count": 39,
   "metadata": {},
   "outputs": [
    {
     "name": "stdout",
     "output_type": "stream",
     "text": [
      "+-----+-----+\n",
      "|churn|count|\n",
      "+-----+-----+\n",
      "|  1.0|   37|\n",
      "|  0.0|  129|\n",
      "+-----+-----+\n",
      "\n",
      "Training set churn count: 21\n",
      "Validation set churn count: 16\n"
     ]
    }
   ],
   "source": [
    "#Stratified sampling without replacement to create train and val sets\n",
    "\n",
    "# Check initial distributions of 0's and 1's\n",
    "df.groupBy(\"churn\").count().show()\n",
    "\n",
    "# Get 90% of both 0's and 50% of 1's into training set\n",
    "train = df.sampleBy(\"churn\", fractions={0: 0.90, 1: 0.50}, seed=7)\n",
    "\n",
    "# Get test set by subtracting the train set from original data set\n",
    "val = df.subtract(train)\n",
    "\n",
    "# Check distributions of 0's and 1's in train and test sets after the sampling\n",
    "print(\"Training set churn count: \" + str(train.filter(train.churn==1).count()))\n",
    "print(\"Validation set churn count: \" + str(val.filter(val.churn==1).count()))"
   ]
  },
  {
   "cell_type": "markdown",
   "metadata": {},
   "source": [
    "## Models\n",
    "\n",
    "For this miniset (~120MB), it would be appropriate to build NNs to find the nonlinearities between the features, but since this procedure is met for a larger set of 12Gb, we have chosen the logistric regresssion classifier and random forest; these models are much faster to train and have relatively high F1 scores. A metric much better suited for this type of problem; more on this in the model evaluation section. \n",
    "\n",
    "### Note: \n",
    "k-Fold Cross-Validation (of k =5) was used. Cross-validation is a resampling procedure used to evaluate machine learning models on a limited data sample (such as the miniset presented here); for the bigger, 12Gb, set this might be over kill, please make sure to less k-folds. The procedure has a single parameter called k that refers to the number of groups that a given data sample is to be split into."
   ]
  },
  {
   "cell_type": "code",
   "execution_count": 41,
   "metadata": {},
   "outputs": [],
   "source": [
    "# assemble and scale features for ML modeling\n",
    "assembler = VectorAssembler(inputCols= df.columns[2:], outputCol='all_features')\n",
    "scaler = StandardScaler(inputCol=\"all_features\", outputCol=\"features\", withStd=True)\n",
    "indexer = StringIndexer(inputCol=\"churn\", outputCol=\"label\")"
   ]
  },
  {
   "cell_type": "code",
   "execution_count": 43,
   "metadata": {},
   "outputs": [],
   "source": [
    "# Build Log Regression Classification Model\n",
    "\n",
    "# Initiate log regression model\n",
    "lr =  LogisticRegression(maxIter=10, regParam=0.0, elasticNetParam=0)\n",
    "\n",
    "# Make pipeline for lr\n",
    "pipeline_lr = Pipeline(stages=[assembler, \n",
    "                               scaler, \n",
    "                               indexer, \n",
    "                               lr\n",
    "                              ]\n",
    "                      )\n",
    "\n",
    "# Grid Search Params\n",
    "paramGrid_lr = ParamGridBuilder() \\\n",
    "    .addGrid(lr.regParam,[0.1, 1]) \\\n",
    "    .build()\n",
    "\n",
    "# Cross-validation\n",
    "cv_lr = CrossValidator(estimator=pipeline_lr,\n",
    "                             estimatorParamMaps=paramGrid_lr,\n",
    "                             evaluator=MulticlassClassificationEvaluator(),\n",
    "                             numFolds=5\n",
    "                            )"
   ]
  },
  {
   "cell_type": "code",
   "execution_count": 44,
   "metadata": {},
   "outputs": [],
   "source": [
    "# train log regression model\n",
    "model_lr = cv_lr.fit(train)"
   ]
  },
  {
   "cell_type": "code",
   "execution_count": 57,
   "metadata": {},
   "outputs": [],
   "source": [
    "# Build Random Forest Classification Model\n",
    "\n",
    "# Initiate Random Forest model\n",
    "stringIndexer = StringIndexer(inputCol=\"label\", outputCol=\"indexed\")\n",
    "\n",
    "rf = RandomForestClassifier(maxDepth=2, labelCol=\"indexed\", seed=7)\n",
    "\n",
    "\n",
    "# build pipeline\n",
    "pipeline_rf = Pipeline(stages=[assembler, \n",
    "                               scaler, \n",
    "                               indexer, \n",
    "                               stringIndexer, \n",
    "                               rf\n",
    "                              ]\n",
    "                      )\n",
    "\n",
    "# build grid of params\n",
    "paramGrid_rf = ParamGridBuilder() \\\n",
    "    .addGrid(rf.numTrees,[25]) \\\n",
    "    .addGrid(rf.impurity,['entropy', 'gini']) \\\n",
    "    .build()\n",
    "\n",
    "# Cross validation specs\n",
    "cv_rf = CrossValidator(estimator=pipeline_rf,\n",
    "                       estimatorParamMaps=paramGrid_rf,\n",
    "                       evaluator=MulticlassClassificationEvaluator(),\n",
    "                       numFolds=5\n",
    "                      )\n"
   ]
  },
  {
   "cell_type": "code",
   "execution_count": 58,
   "metadata": {},
   "outputs": [],
   "source": [
    "# Train random forest model\n",
    "model_rf = cv_rf.fit(train)"
   ]
  },
  {
   "cell_type": "markdown",
   "metadata": {},
   "source": [
    "### Model Evaluation and Comparison"
   ]
  },
  {
   "cell_type": "code",
   "execution_count": 52,
   "metadata": {},
   "outputs": [],
   "source": [
    "def model_evaluation(model_name, model, test_data):\n",
    "    '''\n",
    "    Use to evaluate the models prediction with accuracy and f1 metrics   \n",
    "    \n",
    "    Arguments:\n",
    "        model_name = 'lr model' as a string\n",
    "        model: ml model\n",
    "        test_data: test data\n",
    "    Output:\n",
    "        \n",
    "       \n",
    "   \n",
    "    '''\n",
    "    preds = model.transform(test_data)\n",
    "    \n",
    "    acc_scorer = MulticlassClassificationEvaluator(metricName = 'accuracy')\n",
    "    f1_scorer = MulticlassClassificationEvaluator(metricName = 'f1')\n",
    "    evaluator = MulticlassClassificationEvaluator(predictionCol=\"prediction\")\n",
    "    \n",
    "    accuracy = evaluator.evaluate(preds, {evaluator.metricName: \"accuracy\"})\n",
    "    f1 = evaluator.evaluate(preds, {evaluator.metricName: \"f1\"})\n",
    "    \n",
    "    print('Scores for model:', model_name)\n",
    "    print('Accuracy:{}'.format(accuracy))\n",
    "    print('F-1 Score:{}'.format(f1))\n",
    "    \n",
    "    return accuracy, f1"
   ]
  },
  {
   "cell_type": "code",
   "execution_count": 53,
   "metadata": {},
   "outputs": [
    {
     "name": "stdout",
     "output_type": "stream",
     "text": [
      "Scores for model: Logistic Regression Classification\n",
      "Accuracy:0.9130434782608695\n",
      "F-1 Score:0.8715415019762844\n"
     ]
    }
   ],
   "source": [
    "lr_accuracy, lr_f1 = model_evaluation('Logistic Regression Classification', model_lr, val)"
   ]
  },
  {
   "cell_type": "code",
   "execution_count": 59,
   "metadata": {},
   "outputs": [
    {
     "name": "stdout",
     "output_type": "stream",
     "text": [
      "Scores for model: Random Forest Classification\n",
      "Accuracy:0.9130434782608695\n",
      "F-1 Score:0.8715415019762844\n"
     ]
    }
   ],
   "source": [
    "rf_accuracy, rf_f1 = model_evaluation('Random Forest Classification', model_rf, val)"
   ]
  },
  {
   "cell_type": "markdown",
   "metadata": {},
   "source": [
    "## Conclusion\n",
    "\n",
    "\n",
    "\n"
   ]
  },
  {
   "cell_type": "markdown",
   "metadata": {},
   "source": [
    "It turns out that we only needed 7 features to acquire a decent model that will predict churn rates; the logistic regression model was 91% accurate with an F1-Score of 0.87. Not bad! Considering there was virtually no tuning to be done and the training was relatively fast (compared to other sophisticated models). "
   ]
  },
  {
   "cell_type": "markdown",
   "metadata": {},
   "source": [
    "# Final Steps\n",
    "Clean up your code, adding comments and renaming variables to make the code easier to read and maintain. Refer to the Spark Project Overview page and Data Scientist Capstone Project Rubric to make sure you are including all components of the capstone project and meet all expectations. Remember, this includes thorough documentation in a README file in a Github repository, as well as a web app or blog post."
   ]
  }
 ],
 "metadata": {
  "kernelspec": {
   "display_name": "Python 3",
   "language": "python",
   "name": "python3"
  },
  "language_info": {
   "codemirror_mode": {
    "name": "ipython",
    "version": 3
   },
   "file_extension": ".py",
   "mimetype": "text/x-python",
   "name": "python",
   "nbconvert_exporter": "python",
   "pygments_lexer": "ipython3",
   "version": "3.6.3"
  }
 },
 "nbformat": 4,
 "nbformat_minor": 2
}
